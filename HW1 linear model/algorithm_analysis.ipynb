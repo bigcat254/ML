{
 "cells": [
  {
   "cell_type": "code",
   "execution_count": 1,
   "metadata": {
    "collapsed": true
   },
   "outputs": [],
   "source": [
    "import time\n",
    "\n",
    "import numpy as np\n",
    "import matplotlib.pyplot as plt\n",
    "import math"
   ]
  },
  {
   "cell_type": "code",
   "execution_count": null,
   "outputs": [],
   "source": [
    "# print(\"请输入想求出斐波那契数列的第几项：\")\n",
    "# n = int(input())\n",
    "\n",
    "def Fib(n):\n",
    "    if n == 0:\n",
    "        return 0\n",
    "    if n == 1:\n",
    "        return 1\n",
    "    return Fib(n - 1) + Fib(n - 2)\n",
    "\n",
    "def function_Fib_Recursion(n):\n",
    "    startTime = time.time()\n",
    "    Fib(n)\n",
    "    endTime = time.time()\n",
    "    return endTime - startTime\n",
    "\n",
    "def function_Fib(n):\n",
    "    startTime = time.time()\n",
    "    a = 0\n",
    "    b = 1\n",
    "    for i in range(n):\n",
    "        a, b = b, a+b\n",
    "    endTime = time.time()\n",
    "    return endTime - startTime\n",
    "\n",
    "# print(function_Fib(5))"
   ],
   "metadata": {
    "collapsed": false,
    "pycharm": {
     "is_executing": true
    }
   }
  },
  {
   "cell_type": "code",
   "execution_count": 54,
   "outputs": [],
   "source": [
    "result_list_recursion = []\n",
    "result_list = []\n",
    "for i in np.arange(0, 40, 3):\n",
    "    user_time_recursion = function_Fib_Recursion(i)\n",
    "    user_time = function_Fib(i)\n",
    "    result_list_recursion.append([i, user_time_recursion])\n",
    "    result_list.append([i, user_time])\n"
   ],
   "metadata": {
    "collapsed": false
   }
  },
  {
   "cell_type": "code",
   "execution_count": 55,
   "outputs": [
    {
     "data": {
      "text/plain": "[[0, 0.0],\n [3, 0.0],\n [6, 0.0],\n [9, 0.0],\n [12, 0.0],\n [15, 0.0009963512420654297],\n [18, 0.004987955093383789],\n [21, 0.01695537567138672],\n [24, 0.07577085494995117],\n [27, 0.3460967540740967],\n [30, 1.3114721775054932],\n [33, 5.529573440551758],\n [36, 22.316362857818604],\n [39, 95.84271550178528]]"
     },
     "execution_count": 55,
     "metadata": {},
     "output_type": "execute_result"
    }
   ],
   "source": [
    "result_list_recursion"
   ],
   "metadata": {
    "collapsed": false
   }
  },
  {
   "cell_type": "code",
   "execution_count": 56,
   "outputs": [
    {
     "data": {
      "text/plain": "[[0, 0.0],\n [3, 0.0],\n [6, 0.0],\n [9, 0.0],\n [12, 0.0],\n [15, 0.0],\n [18, 0.0],\n [21, 0.0010228157043457031],\n [24, 0.0],\n [27, 0.0],\n [30, 0.0],\n [33, 0.0],\n [36, 0.0],\n [39, 0.0]]"
     },
     "execution_count": 56,
     "metadata": {},
     "output_type": "execute_result"
    }
   ],
   "source": [
    "result_list"
   ],
   "metadata": {
    "collapsed": false
   }
  },
  {
   "cell_type": "code",
   "execution_count": 58,
   "outputs": [
    {
     "data": {
      "text/plain": "[<matplotlib.lines.Line2D at 0x29351a33488>]"
     },
     "execution_count": 58,
     "metadata": {},
     "output_type": "execute_result"
    },
    {
     "data": {
      "text/plain": "<Figure size 432x288 with 1 Axes>",
      "image/png": "[encoded data removed]"
     },
     "metadata": {
      "needs_background": "light"
     },
     "output_type": "display_data"
    }
   ],
   "source": [
    "result_list_array = np.array(result_list_recursion)\n",
    "result_list_array1 = np.array(result_list)\n",
    "fig, ax = plt.subplots()\n",
    "ax.plot(result_list_array[:, 0], result_list_array[:, 1], color='red')\n",
    "ax.plot(result_list_array1[:, 0], result_list_array1[:, 1], color='blue')\n",
    "# plt.plot(result_list_array[:, 0], result_list_array[:, 1])"
   ],
   "metadata": {
    "collapsed": false
   }
  },
  {
   "cell_type": "code",
   "execution_count": null,
   "outputs": [],
   "source": [],
   "metadata": {
    "collapsed": false,
    "pycharm": {
     "is_executing": true
    }
   }
  },
  {
   "cell_type": "code",
   "execution_count": null,
   "outputs": [],
   "source": [],
   "metadata": {
    "collapsed": false
   }
  }
 ],
 "metadata": {
  "kernelspec": {
   "display_name": "Python 3",
   "language": "python",
   "name": "python3"
  },
  "language_info": {
   "codemirror_mode": {
    "name": "ipython",
    "version": 2
   },
   "file_extension": ".py",
   "mimetype": "text/x-python",
   "name": "python",
   "nbconvert_exporter": "python",
   "pygments_lexer": "ipython2",
   "version": "2.7.6"
  }
 },
 "nbformat": 4,
 "nbformat_minor": 0
}
